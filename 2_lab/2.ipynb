{
 "cells": [
  {
   "cell_type": "markdown",
   "metadata": {},
   "source": [
    "### Стрічкові типи даних"
   ]
  },
  {
   "cell_type": "code",
   "execution_count": 1,
   "metadata": {},
   "outputs": [
    {
     "data": {
      "text/plain": [
       "'Це стрічка 1'"
      ]
     },
     "execution_count": 1,
     "metadata": {},
     "output_type": "execute_result"
    }
   ],
   "source": [
    "а = 'Це стрічка 1'\n",
    "а"
   ]
  },
  {
   "cell_type": "code",
   "execution_count": 2,
   "metadata": {},
   "outputs": [
    {
     "data": {
      "text/plain": [
       "'Це також стрічка'"
      ]
     },
     "execution_count": 2,
     "metadata": {},
     "output_type": "execute_result"
    }
   ],
   "source": [
    "a = \"Це також стрічка\"\n",
    "a"
   ]
  },
  {
   "cell_type": "code",
   "execution_count": 3,
   "metadata": {},
   "outputs": [
    {
     "data": {
      "text/plain": [
       "'\\nЦе буде\\nРозбити на стрічки\\nзмінна\\n'"
      ]
     },
     "execution_count": 3,
     "metadata": {},
     "output_type": "execute_result"
    }
   ],
   "source": [
    "text = '''\n",
    "Це буде\n",
    "Розбити на стрічки\n",
    "змінна\n",
    "'''\n",
    "text"
   ]
  },
  {
   "cell_type": "code",
   "execution_count": 4,
   "metadata": {},
   "outputs": [
    {
     "name": "stdout",
     "output_type": "stream",
     "text": [
      "Це буде вивід \n",
      "Це буде\n",
      "Розбити на стрічки\n",
      "змінна\n",
      " Це також стрічка\n",
      "Це початок:  Це також стрічка Це щось поcередині Це буде вивід\n"
     ]
    }
   ],
   "source": [
    "b = \"Це буде вивід\"\n",
    "print(b, text, a)\n",
    "print(\"Це початок: \", a, 'Це щось поcередині', b)"
   ]
  },
  {
   "cell_type": "code",
   "execution_count": 5,
   "metadata": {},
   "outputs": [
    {
     "name": "stdout",
     "output_type": "stream",
     "text": [
      "<class 'str'>\n",
      "Це буде стрічка:  <class 'str'> 1 Це буде число:  <class 'int'> 1\n",
      "<class 'str'> Та її значення:  1\n"
     ]
    }
   ],
   "source": [
    "print(type(b))\n",
    "n = \"1\"\n",
    "nn = 1\n",
    "ss = str(nn)\n",
    "\n",
    "print(\"Це буде стрічка: \", type(n), n, \"Це буде число: \", type(nn), nn)\n",
    "print(type(ss), \"Та її значення: \", ss)"
   ]
  },
  {
   "cell_type": "markdown",
   "metadata": {},
   "source": [
    "###  Чисельні типи даних"
   ]
  },
  {
   "cell_type": "code",
   "execution_count": 6,
   "metadata": {},
   "outputs": [
    {
     "name": "stdout",
     "output_type": "stream",
     "text": [
      "28\n"
     ]
    }
   ],
   "source": [
    "import sys\n",
    "print(sys.getsizeof(nn))"
   ]
  },
  {
   "cell_type": "code",
   "execution_count": 7,
   "metadata": {},
   "outputs": [
    {
     "name": "stdout",
     "output_type": "stream",
     "text": [
      "<class 'int'> 8\n",
      "33\n"
     ]
    }
   ],
   "source": [
    "a = 3\n",
    "b = 5\n",
    "print(type(a), a+b)\n",
    "\n",
    "_ = \"Це стрічка\"\n",
    "c = \"3\"\n",
    "\n",
    "# Це коментар \n",
    "print(str(a) + c) # така операція називається конкатенацією"
   ]
  },
  {
   "cell_type": "code",
   "execution_count": 8,
   "metadata": {},
   "outputs": [
    {
     "name": "stdout",
     "output_type": "stream",
     "text": [
      "Це початок | Це стрічка1\n"
     ]
    }
   ],
   "source": [
    "print(\"Це початок | \" + _ + ss)"
   ]
  },
  {
   "cell_type": "code",
   "execution_count": 9,
   "metadata": {},
   "outputs": [],
   "source": [
    "# тут буде помилка і якщо ми запустимо цей прінт то в нас буде видавати \n",
    "# текст написаний у наступній комірці \n",
    "#print(ss - _)"
   ]
  },
  {
   "cell_type": "markdown",
   "metadata": {},
   "source": [
    "```python\n",
    "---------------------------------------------------------------------------\n",
    "TypeError                                 Traceback (most recent call last)\n",
    "Cell In[45], line 3\n",
    "      1 # тут буде помилка і якщо ми запустимо цей прінт то в нас буде видавати \n",
    "      2 # текст написаний у наступній комірці \n",
    "----> 3 print(ss - _)\n",
    "\n",
    "TypeError: unsupported operand type(s) for -: 'str' and 'str'\n",
    "```"
   ]
  },
  {
   "cell_type": "code",
   "execution_count": 10,
   "metadata": {},
   "outputs": [
    {
     "name": "stdout",
     "output_type": "stream",
     "text": [
      "Це комірка вже буде працювати!\n"
     ]
    }
   ],
   "source": [
    "print(\"Це комірка вже буде працювати!\")"
   ]
  },
  {
   "cell_type": "code",
   "execution_count": 11,
   "metadata": {},
   "outputs": [
    {
     "name": "stdout",
     "output_type": "stream",
     "text": [
      "<class 'int'> 2\n"
     ]
    },
    {
     "data": {
      "text/plain": [
       "0.11000000000000001"
      ]
     },
     "execution_count": 11,
     "metadata": {},
     "output_type": "execute_result"
    }
   ],
   "source": [
    "i = 1\n",
    "f = 1.1\n",
    "d = int(i + f) # обрізаємо плаваючу крапку\n",
    "print(type(d), d)\n",
    "\n",
    "# Через специфіку Пайтон операції множення ділення дають цікавий результа\n",
    "0.1 * f"
   ]
  },
  {
   "cell_type": "markdown",
   "metadata": {},
   "source": [
    "## Розглядаємо колекції\n",
    "- List - набір даних різного типу, які можуть повторюватись\n",
    "- ми можемо змінювати розмір списку (дадавати, забирати, модифікувати)"
   ]
  },
  {
   "cell_type": "code",
   "execution_count": 12,
   "metadata": {},
   "outputs": [
    {
     "name": "stdout",
     "output_type": "stream",
     "text": [
      "Кількість символів 1:  2\n",
      "Витягуємо:  1\n",
      "['end', '1', '2', [1, 2], 2]\n"
     ]
    }
   ],
   "source": [
    "l = [1, 2, [1, 2], \"1\", \"2\", \"1\"]\n",
    "l.append(\"end\")\n",
    "print(\"Кількість символів 1: \", l.count(\"1\"))\n",
    "l.remove(\"1\")\n",
    "print(\"Витягуємо: \", l.pop(0))\n",
    "l.reverse()\n",
    "print(l)"
   ]
  },
  {
   "cell_type": "markdown",
   "metadata": {},
   "source": [
    "- до елементів списку можна доступатись по індексах"
   ]
  },
  {
   "cell_type": "code",
   "execution_count": 13,
   "metadata": {},
   "outputs": [
    {
     "name": "stdout",
     "output_type": "stream",
     "text": [
      "Список з яким працюємо:  ['end', '1', '2', [1, 2], 2] Його довжина 5\n",
      "end 2 2\n"
     ]
    }
   ],
   "source": [
    "print(\"Список з яким працюємо: \", l, \"Його довжина\", len(l))\n",
    "print(l[0], l[-1], l[-2][-1])"
   ]
  },
  {
   "cell_type": "markdown",
   "metadata": {},
   "source": [
    "- Dict - колекія даних у вигляді КЛЮЧ = ЗНАЧЕННЯ, кожне значення знаходиться на іменній позиції\n",
    "- невпорядкована колекція, немає за чим впорядковувати\n",
    "- ключ має бути унікальним!\n",
    "- можемо модифікувати"
   ]
  },
  {
   "cell_type": "code",
   "execution_count": 14,
   "metadata": {},
   "outputs": [
    {
     "name": "stdout",
     "output_type": "stream",
     "text": [
      "{'A': 'A', 'a': 'a'}\n",
      "{'A': 'A', 'a': 'a', 0: '0_як_значення'}\n",
      "0 0\n",
      "Один Один\n"
     ]
    },
    {
     "data": {
      "text/plain": [
       "{0: 0, 1: 'Один', 2: 2}"
      ]
     },
     "execution_count": 14,
     "metadata": {},
     "output_type": "execute_result"
    }
   ],
   "source": [
    "a = \"A\"\n",
    "d = {a: \"a\", \"a\": \"a\", \"A\": a}\n",
    "print(d)\n",
    "\n",
    "d[0] = \"0_як_значення\"\n",
    "print(d)\n",
    "\n",
    "l = [0, \"Один\", 2]\n",
    "d = {0: 0, 1: \"Один\", 2: 2}\n",
    "\n",
    "print(l[0], d[0])\n",
    "print(l[1], d[1])\n",
    "d"
   ]
  },
  {
   "cell_type": "markdown",
   "metadata": {},
   "source": [
    "- tuple - списод обєктів який неможна змінювати після створення (неможна додавати або забирати елементи)\n",
    "- все решта - схожі на List"
   ]
  },
  {
   "cell_type": "code",
   "execution_count": 15,
   "metadata": {},
   "outputs": [
    {
     "name": "stdout",
     "output_type": "stream",
     "text": [
      "<class 'tuple'> (1, 2, 3, 2, 1, 3) 1\n"
     ]
    }
   ],
   "source": [
    "t = (1, 2, 3, 2, 1, 3)\n",
    "print(type(t), t, t[0])"
   ]
  },
  {
   "cell_type": "markdown",
   "metadata": {},
   "source": [
    "- set - унікальна колекція обєктів, невпорядкована"
   ]
  },
  {
   "cell_type": "code",
   "execution_count": 16,
   "metadata": {},
   "outputs": [
    {
     "name": "stdout",
     "output_type": "stream",
     "text": [
      "{1, 2, 3}\n",
      "False\n",
      "витягуємо елемент:  1 Залишилось емементів:  {2}\n"
     ]
    },
    {
     "data": {
      "text/plain": [
       "{1}"
      ]
     },
     "execution_count": 16,
     "metadata": {},
     "output_type": "execute_result"
    }
   ],
   "source": [
    "print(set(t))\n",
    "a = \"Це стрiчкa\" # тут певні букви є англійські а інші українські\n",
    "b = \"Це стрічка\"\n",
    "print(a.__hash__() == b.__hash__())\n",
    "\n",
    "s = {1,1,2,2}\n",
    "print(\"витягуємо елемент: \", s.pop(), \"Залишилось емементів: \", s)\n",
    "ss = {1}\n",
    "ss"
   ]
  },
  {
   "cell_type": "markdown",
   "metadata": {},
   "source": [
    "### Способи виводу \n",
    "- форматування стрічок"
   ]
  },
  {
   "cell_type": "code",
   "execution_count": 17,
   "metadata": {},
   "outputs": [
    {
     "name": "stdout",
     "output_type": "stream",
     "text": [
      "Тут буде ВСТАВКА. І далі продожується речення.\n",
      "Рублячий удар нанесло 10 шкоди. Рублячий удар перестає діяти.\n",
      "І тут також ВСТАВКА\n"
     ]
    }
   ],
   "source": [
    "i = \"ВСТАВКА\"\n",
    "j = 'речення'\n",
    "s = \"Тут буде {}. І далі продожується {}.\".format(i, j)\n",
    "print(s)\n",
    "skill_name = \"Рублячий удар\"\n",
    "damage = 10 \n",
    "e = \"{0} нанесло {1} шкоди. {0} перестає діяти.\".format(skill_name, damage)\n",
    "print(e)\n",
    "\n",
    "print(\"І тут також {}\".format(i))"
   ]
  },
  {
   "cell_type": "code",
   "execution_count": 18,
   "metadata": {},
   "outputs": [
    {
     "name": "stdout",
     "output_type": "stream",
     "text": [
      "Так також можна робити ВСТАВКА\n",
      "Також можна вставляти цифри: 10.00\n"
     ]
    }
   ],
   "source": [
    "print(\"Так також можна робити %s\" % i)\n",
    "print(\"Також можна вставляти цифри: %.2f\" % 10.0001)"
   ]
  },
  {
   "cell_type": "code",
   "execution_count": 19,
   "metadata": {},
   "outputs": [
    {
     "name": "stdout",
     "output_type": "stream",
     "text": [
      "Це ВСТАВКА за допомогою F-стрічок\n"
     ]
    }
   ],
   "source": [
    "f_string = f\"Це {i} за допомогою F-стрічок\"\n",
    "print(f_string)"
   ]
  },
  {
   "cell_type": "code",
   "execution_count": 20,
   "metadata": {},
   "outputs": [
    {
     "name": "stdout",
     "output_type": "stream",
     "text": [
      "1 Це буде ВСТАВКА на цьому місці\n",
      "2 Це буде ВСТАВКА на цьому місці\n",
      "3 Це буде ВСТАВКА на цьому місці\n",
      "4 Це буде ВСТАВКА на цьому місці\n",
      "5 Це буде ВСТАВКА на цьому місці\n"
     ]
    }
   ],
   "source": [
    "# тут використовую властивості пррінт щоб зробити вивід\n",
    "print(\"1 Це буде\", i, \"на цьому місці\") \n",
    "\n",
    "# використовую конкатенацію щоб відформатувати стрічку перед виводом\n",
    "s_p = \"2 Це буде \" + str(i) + \" на цьому місці\" \n",
    "print(s_p)\n",
    "\n",
    "# Використовуємо метод форматування для стрічок\n",
    "s_f = \"3 Це буде {0} на цьому місці\".format(i)\n",
    "print(s_f)\n",
    "\n",
    "# можна через форматований вивід, з явною вказівкою як форматувати\n",
    "s_f = \"4 Це буде %s на цьому місці\" % i\n",
    "print(s_f)\n",
    "\n",
    "# використання F-стрічок\n",
    "f_f = f\"5 Це буде {i} на цьому місці\"\n",
    "print(f_f)"
   ]
  },
  {
   "cell_type": "markdown",
   "metadata": {},
   "source": [
    "### Константи та вбудовані функції\n",
    "- неможна пеервизначати вбудовані константи, але можна зробити змінні дуже схожі на них"
   ]
  },
  {
   "cell_type": "code",
   "execution_count": 21,
   "metadata": {},
   "outputs": [
    {
     "name": "stdout",
     "output_type": "stream",
     "text": [
      "False\n",
      "тут вже є значення\n"
     ]
    }
   ],
   "source": [
    "false = False\n",
    "print(false)\n",
    "d = {\"key\": None, None: \"тут вже є значення\"}\n",
    "print(d[None])\n",
    "# None + 1 # це дасть помилку - неможна робити арифметичні операції з None"
   ]
  },
  {
   "cell_type": "code",
   "execution_count": 22,
   "metadata": {},
   "outputs": [
    {
     "name": "stdout",
     "output_type": "stream",
     "text": [
      "None\n"
     ]
    }
   ],
   "source": [
    "def function():\n",
    "    \"\"\"Це буде наша функція\n",
    "    \"\"\"\n",
    "    return\n",
    "\n",
    "print(function())"
   ]
  },
  {
   "cell_type": "markdown",
   "metadata": {},
   "source": [
    "- перевизначити вбудовані функції можна, але вони повністю можуть поломати функціонал Пайтон і його роботу"
   ]
  },
  {
   "cell_type": "code",
   "execution_count": 23,
   "metadata": {},
   "outputs": [],
   "source": [
    "# def print():\n",
    "#     return 0\n",
    "\n",
    "# print()"
   ]
  },
  {
   "cell_type": "markdown",
   "metadata": {},
   "source": [
    "### Беремо цикли\n",
    "- `for` ітераційний цикл\n",
    "- `while` умовний цикл\n",
    "- хоча цикли унікальні і використовуються під певні задача, ми можемо розвязати задачу використовуючи будь-який з циклів \n",
    "- спробуємо використати два цикли на одній задачі: Ми витягуємо M&Ms з пачки."
   ]
  },
  {
   "cell_type": "code",
   "execution_count": 24,
   "metadata": {},
   "outputs": [
    {
     "name": "stdout",
     "output_type": "stream",
     "text": [
      "1) Нам попалась коричневий Ммдемска\n",
      "2) Нам попалась зелений Ммдемска\n",
      "3) Нам попалась жовтий Ммдемска\n",
      "4) Нам попалась червоний Ммдемска\n",
      "5) Нам попалась зелений Ммдемска\n",
      "6) Нам попалась жовтий Ммдемска\n",
      "7) Нам попалась червоний Ммдемска\n",
      "8) Нам попалась коричневий Ммдемска\n",
      "9) Нам попалась жовтий Ммдемска\n",
      "10) Нам попалась коричневий Ммдемска\n",
      "11) Нам попалась червоний Ммдемска\n",
      "12) Нам попалась зелений Ммдемска\n",
      "13) Нам попалась коричневий Ммдемска\n",
      "14) Нам попалась зелений Ммдемска\n",
      "15) Нам попалась зелений Ммдемска\n",
      "16) Нам попалась жовтий Ммдемска\n",
      "17) Нам попалась зелений Ммдемска\n",
      "18) Нам попалась синій Ммдемска\n",
      "19) Нам попалась коричневий Ммдемска\n",
      "20) Нам попалась синій Ммдемска\n"
     ]
    }
   ],
   "source": [
    "from random import randint\n",
    "m_m = [\"червоний\", \"жовтий\", \"зелений\", \"синій\", \"коричневий\"]\n",
    "\n",
    "N = 20  # кількість M&Ms в пачці\n",
    "\n",
    "for i in range(N): # ми 20 разів будемо брати M&Ms\n",
    "    print(f\"{i+1}) Нам попалась {m_m[randint(0, len(m_m)-1)]} Ммдемска\")"
   ]
  },
  {
   "cell_type": "code",
   "execution_count": 25,
   "metadata": {},
   "outputs": [
    {
     "name": "stdout",
     "output_type": "stream",
     "text": [
      "1) Нам попалась коричневий Ммдемска\n",
      "2) Нам попалась синій Ммдемска\n",
      "3) Нам попалась жовтий Ммдемска\n",
      "4) Нам попалась коричневий Ммдемска\n",
      "5) Нам попалась коричневий Ммдемска\n",
      "6) Нам попалась коричневий Ммдемска\n",
      "7) Нам попалась коричневий Ммдемска\n",
      "8) Нам попалась коричневий Ммдемска\n",
      "9) Нам попалась коричневий Ммдемска\n",
      "10) Нам попалась коричневий Ммдемска\n",
      "11) Нам попалась зелений Ммдемска\n",
      "12) Нам попалась синій Ммдемска\n",
      "13) Нам попалась коричневий Ммдемска\n",
      "14) Нам попалась жовтий Ммдемска\n",
      "15) Нам попалась червоний Ммдемска\n",
      "16) Нам попалась синій Ммдемска\n",
      "17) Нам попалась зелений Ммдемска\n",
      "18) Нам попалась зелений Ммдемска\n",
      "19) Нам попалась коричневий Ммдемска\n",
      "20) Нам попалась зелений Ммдемска\n"
     ]
    }
   ],
   "source": [
    "m = 1\n",
    "while m <= 20:\n",
    "    print(f\"{m}) Нам попалась {m_m[randint(0, len(m_m)-1)]} Ммдемска\")\n",
    "    m += 1 # Щоб ітерації не були вічними інкрементуємо змінну"
   ]
  },
  {
   "cell_type": "markdown",
   "metadata": {},
   "source": [
    "Різници між циклами немає, однак через те що ми наємо що в пацчі 20 Ммдемсок то краще нам використовувати ітераційний цикл. Якщо б задача стояла навпаки і ми не знали скільки в пачці Ммдемсок то потрібно використати умовний цикл.\n",
    "Є пачка з Ммдемсок і ми її їмо"
   ]
  },
  {
   "cell_type": "code",
   "execution_count": 26,
   "metadata": {},
   "outputs": [],
   "source": [
    "from random import shuffle\n",
    "i = randint(2, 5)\n",
    "mm = m_m * i # В пачці можу бути від 10 до 25 Ммдемсокк\n",
    "shuffle(mm)\n",
    "m_while = mm.copy()\n",
    "m_for = mm.copy()"
   ]
  },
  {
   "cell_type": "code",
   "execution_count": 27,
   "metadata": {},
   "outputs": [
    {
     "name": "stdout",
     "output_type": "stream",
     "text": [
      "Ми витягнули Ммдемску: синій\n",
      "Ми витягнули Ммдемску: зелений\n",
      "Ми витягнули Ммдемску: жовтий\n",
      "Ми витягнули Ммдемску: червоний\n",
      "Ми витягнули Ммдемску: синій\n",
      "Ми витягнули Ммдемску: жовтий\n",
      "Ми витягнули Ммдемску: коричневий\n",
      "Ми витягнули Ммдемску: зелений\n",
      "Ми витягнули Ммдемску: червоний\n",
      "Ми витягнули Ммдемску: коричневий\n"
     ]
    }
   ],
   "source": [
    "while len(m_while) > 0:\n",
    "    print(f\"Ми витягнули Ммдемску: {m_while.pop(0)}\")"
   ]
  },
  {
   "cell_type": "code",
   "execution_count": 28,
   "metadata": {},
   "outputs": [
    {
     "name": "stdout",
     "output_type": "stream",
     "text": [
      "Ми витягнули Ммдемску: синій\n",
      "Ми витягнули Ммдемску: зелений\n",
      "Ми витягнули Ммдемску: жовтий\n",
      "Ми витягнули Ммдемску: червоний\n",
      "Ми витягнули Ммдемску: синій\n",
      "Ми витягнули Ммдемску: жовтий\n",
      "Ми витягнули Ммдемску: коричневий\n",
      "Ми витягнули Ммдемску: зелений\n",
      "Ми витягнули Ммдемску: червоний\n",
      "Ми витягнули Ммдемску: коричневий\n"
     ]
    }
   ],
   "source": [
    "for i in m_for:\n",
    "    print(f\"Ми витягнули Ммдемску: {i}\")"
   ]
  },
  {
   "cell_type": "markdown",
   "metadata": {},
   "source": [
    "- для того щоб у циклах додати певний функціонал ми можемо:\n",
    "- перервати цикл перш ніж він виконає всі ітерації - `break`\n",
    "- або цникнути певну ітерацію за допомгою - `continue`\n",
    "\n",
    "Ми кидаємо кубик 5 раз або поки нам не випаде 3"
   ]
  },
  {
   "cell_type": "code",
   "execution_count": 29,
   "metadata": {},
   "outputs": [
    {
     "name": "stdout",
     "output_type": "stream",
     "text": [
      "1) Нам випало число на кубику: 3\n",
      "Нам випало те що ми хотіли\n"
     ]
    }
   ],
   "source": [
    "for i in range(5):\n",
    "    k = randint(1, 6)\n",
    "    print(f\"{i+1}) Нам випало число на кубику: {k}\")\n",
    "    if k == 3:\n",
    "        print(\"Нам випало те що ми хотіли\")\n",
    "        break"
   ]
  },
  {
   "cell_type": "code",
   "execution_count": 30,
   "metadata": {},
   "outputs": [
    {
     "name": "stdout",
     "output_type": "stream",
     "text": [
      "0) Нам випало число на кубику: 2\n",
      "1) Нам випало число на кубику: 5\n",
      "2) Нам випало число на кубику: 6\n",
      "3) Нам випало число на кубику: 5\n",
      "4) Нам випало число на кубику: 4\n"
     ]
    }
   ],
   "source": [
    "i = 0\n",
    "while i < 5:\n",
    "    k = randint(1, 6)\n",
    "    print(f\"{i}) Нам випало число на кубику: {k}\")\n",
    "    i += 1\n",
    "    if k == 3:\n",
    "        print(\"Нам випало те що ми хотіли\")\n",
    "        break\n"
   ]
  },
  {
   "cell_type": "code",
   "execution_count": 31,
   "metadata": {},
   "outputs": [
    {
     "name": "stdout",
     "output_type": "stream",
     "text": [
      "0) Нам випало число на кубику: 6\n",
      "1) Нам випало число на кубику: 5\n",
      "2) Нам випало число на кубику: 6\n",
      "3) Нам випало число на кубику: 5\n",
      "4) Нам випало число на кубику: 3\n",
      "Ми використали 5 спроб і останнє що нам випало: 3\n"
     ]
    }
   ],
   "source": [
    "k = None\n",
    "i = 0\n",
    "while k != 3 and i < 5: # цикл завершиться якщо одна з умов не виконається\n",
    "    k = randint(1, 6)\n",
    "    print(f\"{i}) Нам випало число на кубику: {k}\")\n",
    "    i += 1\n",
    "\n",
    "print(f\"Ми використали {i} спроб і останнє що нам випало: {k}\")"
   ]
  },
  {
   "cell_type": "markdown",
   "metadata": {},
   "source": [
    "Задання/генерація масивів даних за допомогою циклів (list comprehantion)\n",
    "- деколи такі записи називають однострічковими (one-liners)"
   ]
  },
  {
   "cell_type": "code",
   "execution_count": 38,
   "metadata": {},
   "outputs": [
    {
     "name": "stdout",
     "output_type": "stream",
     "text": [
      "[0, 1, 2, 3, 4, 5, 6, 7, 8, 9]\n",
      "['Значення: 0', 'Значення: 1', 'Значення: 2', 'Значення: 3', 'Значення: 4', 'Значення: 5', 'Значення: 6', 'Значення: 7', 'Значення: 8', 'Значення: 9']\n",
      "['Значення: 0', 'Значення: 1', 'Значення: 2', 'Значення: 3', 'Значення: 4', 'Значення: 5', 'Значення: 6', 'Значення: 7', 'Значення: 8', 'Значення: 9']\n",
      "['0) ', '1) ', '2) ', '3) ', '4) ']\n",
      "['H', 'E', 'L', 'L', 'O']\n"
     ]
    }
   ],
   "source": [
    "i = range(10)\n",
    "print(list(i))\n",
    "j = [f\"Значення: {i}\" for i in range(10)]\n",
    "print(j)\n",
    "j = []\n",
    "for i in range(10):\n",
    "    j.append(f\"Значення: {i}\")\n",
    "\n",
    "print(j)\n",
    "\n",
    "def i_j(a):\n",
    "    return f\"{a}) \"\n",
    "\n",
    "j = [i_j(i) for i in range(5)]\n",
    "print(j)\n",
    "\n",
    "j = [i.capitalize() for i in [\"h\", \"e\", \"l\", \"l\", \"o\"]]\n",
    "print(j)"
   ]
  },
  {
   "cell_type": "markdown",
   "metadata": {},
   "source": [
    "### Розгалуження\n",
    "- банальні If які існують у будь-якій мові програмування\n",
    "- найчастіше if замінює оператор switch у іншинх мовах\n",
    "- по канонічному if else повинні застосовуватись у парі, але зазвичай умови роблять ли ше з IF\n",
    "- також для IF застосовуються однострічкові вирази"
   ]
  },
  {
   "cell_type": "code",
   "execution_count": 42,
   "metadata": {},
   "outputs": [
    {
     "name": "stdout",
     "output_type": "stream",
     "text": [
      "Введено довге слово: щось\n",
      "Зайшли у функцію\n",
      "Ми зайшли у розгалуження\n"
     ]
    }
   ],
   "source": [
    "i = \"щось\" #input(\"Введіть щось: \")\n",
    "if len(i) > 3:\n",
    "    print(f\"Введено довге слово: {i}\")\n",
    "\n",
    "def example(a):\n",
    "    print(\"Зайшли у функцію\")\n",
    "    if a > 2:\n",
    "        print(\"Ми зайшли у розгалуження\")\n",
    "        return\n",
    "    #else:\n",
    "    #    print(\"Це буде виконуватись якщо не заходимо у if\")\n",
    "    print(\"Це буде виконуватись якщо не заходимо у if\")\n",
    "\n",
    "example(len(i))\n"
   ]
  },
  {
   "cell_type": "code",
   "execution_count": 49,
   "metadata": {},
   "outputs": [
    {
     "name": "stdout",
     "output_type": "stream",
     "text": [
      "Значення хибності\n"
     ]
    },
    {
     "data": {
      "text/plain": [
       "['Вивести цей вираз']"
      ]
     },
     "execution_count": 49,
     "metadata": {},
     "output_type": "execute_result"
    }
   ],
   "source": [
    "# все що не є False або 0 або None вважається True\n",
    "if None:\n",
    "    print(\"Значення істинності\")\n",
    "else:\n",
    "    print(\"Значення хибності\")\n",
    "\n",
    "[\"Вивести цей вираз\" if len(\"Умова має виконуватист\") > 5 else \"а у іншому випадку цей\"]"
   ]
  },
  {
   "cell_type": "code",
   "execution_count": 59,
   "metadata": {},
   "outputs": [
    {
     "name": "stdout",
     "output_type": "stream",
     "text": [
      "Значення не є пустим\n"
     ]
    }
   ],
   "source": [
    "e = \"1\" # \" \"\n",
    "if len(e):\n",
    "    print(\"Значення не є пустим\")\n",
    "elif e == 1:\n",
    "    print(\"Умова 2\")\n",
    "else:\n",
    "    print(f\"Значення було: {e}\")"
   ]
  },
  {
   "cell_type": "markdown",
   "metadata": {},
   "source": [
    "### Виловлювання помилок"
   ]
  },
  {
   "cell_type": "code",
   "execution_count": 82,
   "metadata": {},
   "outputs": [
    {
     "name": "stdout",
     "output_type": "stream",
     "text": [
      "Виникла одна з двох помилок: unsupported operand type(s) for +: 'int' and 'str'\n"
     ]
    }
   ],
   "source": [
    "#a = print(\")\n",
    "#False = 1\n",
    "i = randint(1,2)\n",
    "\n",
    "try:\n",
    "    if i == 1:\n",
    "        a = 1 + \"1\"\n",
    "    else:\n",
    "        a = 1 / 0\n",
    "    print(a)\n",
    "#except Exception as e:\n",
    "#    print(f\"Ми використали неправильний операцію і отримали: {e}\")\n",
    "\n",
    "except (TypeError, ZeroDivisionError) as e:\n",
    "    print(f\"Виникла одна з двох помилок: {e}\")\n"
   ]
  },
  {
   "cell_type": "code",
   "execution_count": 84,
   "metadata": {},
   "outputs": [
    {
     "ename": "TypeError",
     "evalue": "Так не можна!",
     "output_type": "error",
     "traceback": [
      "\u001b[0;31m---------------------------------------------------------------------------\u001b[0m",
      "\u001b[0;31mTypeError\u001b[0m                                 Traceback (most recent call last)",
      "Cell \u001b[0;32mIn[84], line 1\u001b[0m\n\u001b[0;32m----> 1\u001b[0m \u001b[38;5;28;01mraise\u001b[39;00m \u001b[38;5;167;01mTypeError\u001b[39;00m(\u001b[38;5;124m\"\u001b[39m\u001b[38;5;124mТак не можна!\u001b[39m\u001b[38;5;124m\"\u001b[39m)\n",
      "\u001b[0;31mTypeError\u001b[0m: Так не можна!"
     ]
    }
   ],
   "source": [
    "raise TypeError(\"Так не можна!\")"
   ]
  }
 ],
 "metadata": {
  "kernelspec": {
   "display_name": "Python 3",
   "language": "python",
   "name": "python3"
  },
  "language_info": {
   "codemirror_mode": {
    "name": "ipython",
    "version": 3
   },
   "file_extension": ".py",
   "mimetype": "text/x-python",
   "name": "python",
   "nbconvert_exporter": "python",
   "pygments_lexer": "ipython3",
   "version": "3.11.1"
  }
 },
 "nbformat": 4,
 "nbformat_minor": 2
}
