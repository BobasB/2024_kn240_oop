{
 "cells": [
  {
   "cell_type": "code",
   "execution_count": 1,
   "id": "41b092b3",
   "metadata": {},
   "outputs": [],
   "source": [
    "from tqdm import tqdm\n",
    "from time import sleep"
   ]
  },
  {
   "cell_type": "code",
   "execution_count": 2,
   "id": "ed780de8",
   "metadata": {},
   "outputs": [
    {
     "name": "stderr",
     "output_type": "stream",
     "text": [
      "100%|██████████| 4/4 [00:04<00:00,  1.01s/it]\n"
     ]
    }
   ],
   "source": [
    "l = [1, 2, 3, 4]\n",
    "\n",
    "for i in tqdm(l):\n",
    "    sleep(1)"
   ]
  },
  {
   "cell_type": "code",
   "execution_count": 3,
   "id": "c0a7aa5d",
   "metadata": {},
   "outputs": [
    {
     "name": "stderr",
     "output_type": "stream",
     "text": [
      "100%|██████████| 5/5 [00:05<00:00,  1.00s/it]\n"
     ]
    }
   ],
   "source": [
    "r = range(5)\n",
    "for i in tqdm(r):\n",
    "    sleep(1)"
   ]
  },
  {
   "cell_type": "code",
   "execution_count": 4,
   "id": "204a40d1",
   "metadata": {},
   "outputs": [
    {
     "name": "stdout",
     "output_type": "stream",
     "text": [
      "0: імя потоку=ThreadPoolExecutor-0_01: імя потоку=ThreadPoolExecutor-0_1\n",
      "\n"
     ]
    },
    {
     "data": {
      "application/vnd.jupyter.widget-view+json": {
       "model_id": "57d7d4f34a0b4165a91b7bc1a228b906",
       "version_major": 2,
       "version_minor": 0
      },
      "text/plain": [
       "Ітерація в треді:   0%|          | 0/1 [00:00<?, ?it/s]"
      ]
     },
     "metadata": {},
     "output_type": "display_data"
    },
    {
     "data": {
      "application/vnd.jupyter.widget-view+json": {
       "model_id": "8ccb34ba9d974b94b1d7c17388e7e7e3",
       "version_major": 2,
       "version_minor": 0
      },
      "text/plain": [
       "Start>>>:   0%|          | 0/10 [00:00<?, ?it/s]"
      ]
     },
     "metadata": {},
     "output_type": "display_data"
    },
    {
     "data": {
      "application/vnd.jupyter.widget-view+json": {
       "model_id": "c5d9c66fd42b48e98ea52828952f5c6f",
       "version_major": 2,
       "version_minor": 0
      },
      "text/plain": [
       "Ітерація в треді: 0it [00:00, ?it/s]"
      ]
     },
     "metadata": {},
     "output_type": "display_data"
    },
    {
     "name": "stdout",
     "output_type": "stream",
     "text": [
      "2: імя потоку=ThreadPoolExecutor-0_0\n"
     ]
    },
    {
     "data": {
      "application/vnd.jupyter.widget-view+json": {
       "model_id": "0cf3c6f0407745ec979676a2fdb76830",
       "version_major": 2,
       "version_minor": 0
      },
      "text/plain": [
       "Ітерація в треді:   0%|          | 0/2 [00:00<?, ?it/s]"
      ]
     },
     "metadata": {},
     "output_type": "display_data"
    },
    {
     "name": "stdout",
     "output_type": "stream",
     "text": [
      "3: імя потоку=ThreadPoolExecutor-0_1\n"
     ]
    },
    {
     "data": {
      "application/vnd.jupyter.widget-view+json": {
       "model_id": "4318da7b57964a85bca549bead959ec0",
       "version_major": 2,
       "version_minor": 0
      },
      "text/plain": [
       "Ітерація в треді:   0%|          | 0/3 [00:00<?, ?it/s]"
      ]
     },
     "metadata": {},
     "output_type": "display_data"
    },
    {
     "name": "stdout",
     "output_type": "stream",
     "text": [
      "4: імя потоку=ThreadPoolExecutor-0_0\n"
     ]
    },
    {
     "data": {
      "application/vnd.jupyter.widget-view+json": {
       "model_id": "5dc5eabe26914b51a0787498559d7fed",
       "version_major": 2,
       "version_minor": 0
      },
      "text/plain": [
       "Ітерація в треді:   0%|          | 0/4 [00:00<?, ?it/s]"
      ]
     },
     "metadata": {},
     "output_type": "display_data"
    },
    {
     "name": "stdout",
     "output_type": "stream",
     "text": [
      "5: імя потоку=ThreadPoolExecutor-0_1\n"
     ]
    },
    {
     "data": {
      "application/vnd.jupyter.widget-view+json": {
       "model_id": "7af9406051704d6090763f70bdd84b32",
       "version_major": 2,
       "version_minor": 0
      },
      "text/plain": [
       "Ітерація в треді:   0%|          | 0/5 [00:00<?, ?it/s]"
      ]
     },
     "metadata": {},
     "output_type": "display_data"
    },
    {
     "name": "stdout",
     "output_type": "stream",
     "text": [
      "6: імя потоку=ThreadPoolExecutor-0_0\n"
     ]
    },
    {
     "data": {
      "application/vnd.jupyter.widget-view+json": {
       "model_id": "9a15a228e6c34227a1db6979074f1d0e",
       "version_major": 2,
       "version_minor": 0
      },
      "text/plain": [
       "Ітерація в треді:   0%|          | 0/6 [00:00<?, ?it/s]"
      ]
     },
     "metadata": {},
     "output_type": "display_data"
    },
    {
     "name": "stdout",
     "output_type": "stream",
     "text": [
      "7: імя потоку=ThreadPoolExecutor-0_1\n"
     ]
    },
    {
     "data": {
      "application/vnd.jupyter.widget-view+json": {
       "model_id": "1acbd141d91c41a69c197494571cce5b",
       "version_major": 2,
       "version_minor": 0
      },
      "text/plain": [
       "Ітерація в треді:   0%|          | 0/7 [00:00<?, ?it/s]"
      ]
     },
     "metadata": {},
     "output_type": "display_data"
    },
    {
     "name": "stdout",
     "output_type": "stream",
     "text": [
      "8: імя потоку=ThreadPoolExecutor-0_0\n"
     ]
    },
    {
     "data": {
      "application/vnd.jupyter.widget-view+json": {
       "model_id": "65dce26b0c784e6bb7f53674bc79d378",
       "version_major": 2,
       "version_minor": 0
      },
      "text/plain": [
       "Ітерація в треді:   0%|          | 0/8 [00:00<?, ?it/s]"
      ]
     },
     "metadata": {},
     "output_type": "display_data"
    },
    {
     "name": "stdout",
     "output_type": "stream",
     "text": [
      "9: імя потоку=ThreadPoolExecutor-0_1\n"
     ]
    },
    {
     "data": {
      "application/vnd.jupyter.widget-view+json": {
       "model_id": "84c24042111e4dfbbb6489d22b840e63",
       "version_major": 2,
       "version_minor": 0
      },
      "text/plain": [
       "Ітерація в треді:   0%|          | 0/9 [00:00<?, ?it/s]"
      ]
     },
     "metadata": {},
     "output_type": "display_data"
    }
   ],
   "source": [
    "from concurrent.futures import ThreadPoolExecutor\n",
    "from threading import current_thread\n",
    "import math\n",
    "from tqdm.notebook import tqdm\n",
    "\n",
    "def check_thread(v):\n",
    "    \"\"\"Функція для багатопоточночті через треди\n",
    "    \"\"\"\n",
    "    thread = current_thread()\n",
    "    print(f\"{v}: імя потоку={thread.name}\")\n",
    "    for _ in tqdm(range(v), desc=\"Ітерація в треді\", leave=False):\n",
    "        sleep(1)\n",
    "    a = math.sqrt(64^v)\n",
    "    return a\n",
    "\n",
    "with ThreadPoolExecutor(max_workers=2) as executor:\n",
    "    list(tqdm(executor.map(check_thread, range(10)), total=10, desc=\"Start>>>\"))"
   ]
  },
  {
   "cell_type": "code",
   "execution_count": 5,
   "id": "4ace64d8",
   "metadata": {},
   "outputs": [
    {
     "data": {
      "application/vnd.jupyter.widget-view+json": {
       "model_id": "3d9428d6182b4206972599060d80cfa5",
       "version_major": 2,
       "version_minor": 0
      },
      "text/plain": [
       "Загальний прогрес:   0%|          | 0/5 [00:00<?, ?it/s]"
      ]
     },
     "metadata": {},
     "output_type": "display_data"
    },
    {
     "data": {
      "application/vnd.jupyter.widget-view+json": {
       "model_id": "6faeb0dcdb1f40cda2b513418d457661",
       "version_major": 2,
       "version_minor": 0
      },
      "text/plain": [
       "Внутрішня ітерація:   0%|          | 0/10 [00:00<?, ?it/s]"
      ]
     },
     "metadata": {},
     "output_type": "display_data"
    },
    {
     "data": {
      "application/vnd.jupyter.widget-view+json": {
       "model_id": "d30f9e4b38f349e78b7158eeefeda361",
       "version_major": 2,
       "version_minor": 0
      },
      "text/plain": [
       "Внутрішня ітерація:   0%|          | 0/10 [00:00<?, ?it/s]"
      ]
     },
     "metadata": {},
     "output_type": "display_data"
    },
    {
     "data": {
      "application/vnd.jupyter.widget-view+json": {
       "model_id": "72b61afa493a4da1a7fa5114df25aaf3",
       "version_major": 2,
       "version_minor": 0
      },
      "text/plain": [
       "Внутрішня ітерація:   0%|          | 0/10 [00:00<?, ?it/s]"
      ]
     },
     "metadata": {},
     "output_type": "display_data"
    },
    {
     "data": {
      "application/vnd.jupyter.widget-view+json": {
       "model_id": "9ab3dacb9e454891a8629dc9c477724a",
       "version_major": 2,
       "version_minor": 0
      },
      "text/plain": [
       "Внутрішня ітерація:   0%|          | 0/10 [00:00<?, ?it/s]"
      ]
     },
     "metadata": {},
     "output_type": "display_data"
    },
    {
     "data": {
      "application/vnd.jupyter.widget-view+json": {
       "model_id": "80dbfc65180b4bdead2ce0465003aec2",
       "version_major": 2,
       "version_minor": 0
      },
      "text/plain": [
       "Внутрішня ітерація:   0%|          | 0/10 [00:00<?, ?it/s]"
      ]
     },
     "metadata": {},
     "output_type": "display_data"
    }
   ],
   "source": [
    "for i in tqdm(range(5), desc=\"Загальний прогрес\"):\n",
    "    for j in tqdm(range(10), desc=\"Внутрішня ітерація\", leave=False):\n",
    "        sleep(0.1)"
   ]
  },
  {
   "cell_type": "code",
   "execution_count": 6,
   "id": "c7e00dc4",
   "metadata": {},
   "outputs": [
    {
     "data": {
      "application/vnd.jupyter.widget-view+json": {
       "model_id": "d93a27b95cd844539ecde2f6696f76b1",
       "version_major": 2,
       "version_minor": 0
      },
      "text/plain": [
       "  0%|          | 0/2 [00:00<?, ?it/s]"
      ]
     },
     "metadata": {},
     "output_type": "display_data"
    },
    {
     "name": "stdout",
     "output_type": "stream",
     "text": [
      "2\n"
     ]
    }
   ],
   "source": [
    "a = list(tqdm(range(2)))\n",
    "print(len(a))"
   ]
  },
  {
   "cell_type": "code",
   "execution_count": 7,
   "id": "27afc919",
   "metadata": {},
   "outputs": [
    {
     "name": "stdout",
     "output_type": "stream",
     "text": [
      "1\n",
      "5\n",
      "7\n"
     ]
    }
   ],
   "source": [
    "l = [1, 5, 7]\n",
    "for i in l:\n",
    "    print(i)"
   ]
  },
  {
   "cell_type": "code",
   "execution_count": 29,
   "id": "3ced2eae",
   "metadata": {},
   "outputs": [
    {
     "name": "stdout",
     "output_type": "stream",
     "text": [
      "Ітерація 1\n",
      "Перший прінт: 2\n",
      "Ітерація 0\n",
      "Вивід з циклу, 0 будемо мати генератор 1\n",
      "Ітерація 1\n",
      "Вивід з циклу, 1 будемо мати генератор 2\n",
      "Ітерація 2\n",
      "Вивід з циклу, 2 будемо мати генератор 3\n",
      "Ітерація 3\n",
      "Вивід з циклу, 3 будемо мати генератор 4\n",
      "Ітерація 4\n",
      "Вивід з циклу, 4 будемо мати генератор 5\n",
      "Ітерація 5\n",
      "Вивід з циклу, 5 будемо мати генератор 6\n",
      "Ітерація 6\n",
      "Вивід з циклу, 6 будемо мати генератор 7\n",
      "Ітерація 7\n",
      "Вивід з циклу, 7 будемо мати генератор 8\n",
      "Ітерація 8\n",
      "Вивід з циклу, 8 будемо мати генератор 9\n",
      "Ітерація 9\n",
      "Вивід з циклу, 9 будемо мати генератор 10\n"
     ]
    }
   ],
   "source": [
    "def my_generator(x):\n",
    "    print(f\"Ітерація {x}\")\n",
    "    yield x+1\n",
    "    print(\"Після yield\")\n",
    "\n",
    "print(f\"Перший прінт: {next(my_generator(1))}\")\n",
    "\n",
    "g = my_generator\n",
    "for i in range(10):\n",
    "    print(f\"Вивід з циклу, {i} будемо мати генератор {next(g(i))}\")"
   ]
  },
  {
   "cell_type": "code",
   "execution_count": 20,
   "id": "83a1d0ac",
   "metadata": {},
   "outputs": [
    {
     "data": {
      "text/plain": [
       "generator"
      ]
     },
     "execution_count": 20,
     "metadata": {},
     "output_type": "execute_result"
    }
   ],
   "source": [
    "type(my_generator(1))"
   ]
  },
  {
   "cell_type": "code",
   "execution_count": 33,
   "id": "3cbd4252",
   "metadata": {},
   "outputs": [],
   "source": [
    "def my_gen_test():\n",
    "    for i in [1, 4, 5]:\n",
    "        print(\"Перед yield\")\n",
    "        sleep(2)\n",
    "        yield i\n",
    "        print(\"Після yield\")\n",
    "        sleep(2)\n",
    "    \n",
    "    return None"
   ]
  },
  {
   "cell_type": "code",
   "execution_count": 34,
   "id": "71a2e36d",
   "metadata": {},
   "outputs": [
    {
     "name": "stdout",
     "output_type": "stream",
     "text": [
      "Перед yield\n",
      "Вивід з генератора: 1\n",
      "Після yield\n",
      "Перед yield\n",
      "Вивід з генератора: 4\n",
      "Після yield\n",
      "Перед yield\n",
      "Вивід з генератора: 5\n",
      "Після yield\n"
     ]
    }
   ],
   "source": [
    "for m in my_gen_test():\n",
    "    print(f\"Вивід з генератора: {m}\")"
   ]
  },
  {
   "cell_type": "code",
   "execution_count": null,
   "id": "e7a6902a",
   "metadata": {},
   "outputs": [
    {
     "ename": "StopIteration",
     "evalue": "",
     "output_type": "error",
     "traceback": [
      "\u001b[31m---------------------------------------------------------------------------\u001b[39m",
      "\u001b[31mStopIteration\u001b[39m                             Traceback (most recent call last)",
      "\u001b[36mCell\u001b[39m\u001b[36m \u001b[39m\u001b[32mIn[26]\u001b[39m\u001b[32m, line 5\u001b[39m\n\u001b[32m      3\u001b[39m \u001b[38;5;28mnext\u001b[39m(i)\n\u001b[32m      4\u001b[39m \u001b[38;5;28mnext\u001b[39m(i)\n\u001b[32m----> \u001b[39m\u001b[32m5\u001b[39m \u001b[38;5;28;43mnext\u001b[39;49m\u001b[43m(\u001b[49m\u001b[43mi\u001b[49m\u001b[43m)\u001b[49m\n",
      "\u001b[31mStopIteration\u001b[39m: "
     ]
    }
   ],
   "source": [
    "i = my_gen_test()\n",
    "next(i)\n",
    "next(i)\n",
    "next(i)\n",
    "next(i)"
   ]
  },
  {
   "cell_type": "code",
   "execution_count": null,
   "id": "e66a0806",
   "metadata": {},
   "outputs": [
    {
     "name": "stdout",
     "output_type": "stream",
     "text": [
      "['1', ' test', ' 18', ' end']\n",
      "['2', ' tt', ' 00', ' new']\n"
     ]
    }
   ],
   "source": [
    "import csv\n",
    "\n",
    "f = csv.reader(open(\"1.csv\"))\n",
    "\n",
    "for s in f:\n",
    "    print(s)"
   ]
  },
  {
   "cell_type": "code",
   "execution_count": 42,
   "id": "999c3fa3",
   "metadata": {},
   "outputs": [
    {
     "name": "stdout",
     "output_type": "stream",
     "text": [
      "[['1', ' test', ' 18', ' end'], ['2', ' tt', ' 00', ' new']]\n"
     ]
    }
   ],
   "source": [
    "def get_csv():\n",
    "    #with open(\"1.csv\") as c:\n",
    "    #    for s in csv.reader(c):\n",
    "    #        yield s\n",
    "    sleep(2)\n",
    "    yield [s for s in csv.reader(open(\"1.csv\"))]\n",
    "\n",
    "for ss in get_csv():\n",
    "    print(list(ss))"
   ]
  },
  {
   "cell_type": "code",
   "execution_count": 12,
   "id": "7dafba21",
   "metadata": {},
   "outputs": [],
   "source": [
    "import csv\n",
    "import string\n",
    "import random\n",
    "\n",
    "with open(\"1.csv\", 'a') as f:\n",
    "    wr = csv.writer(f)\n",
    "    for i in range(100000):\n",
    "        ss = \"\".join(random.choices(string.ascii_letters, k=3))\n",
    "        wr.writerow([random.choice(string.digits), \"tt\", 0, ss])"
   ]
  }
 ],
 "metadata": {
  "kernelspec": {
   "display_name": "Python 3",
   "language": "python",
   "name": "python3"
  },
  "language_info": {
   "codemirror_mode": {
    "name": "ipython",
    "version": 3
   },
   "file_extension": ".py",
   "mimetype": "text/x-python",
   "name": "python",
   "nbconvert_exporter": "python",
   "pygments_lexer": "ipython3",
   "version": "3.12.9"
  }
 },
 "nbformat": 4,
 "nbformat_minor": 5
}
