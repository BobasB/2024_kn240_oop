{
 "cells": [
  {
   "cell_type": "markdown",
   "metadata": {},
   "source": [
    "### Стрічкові типи даних"
   ]
  },
  {
   "cell_type": "code",
   "execution_count": 35,
   "metadata": {},
   "outputs": [
    {
     "data": {
      "text/plain": [
       "'Це стрічка 1'"
      ]
     },
     "execution_count": 35,
     "metadata": {},
     "output_type": "execute_result"
    }
   ],
   "source": [
    "а = 'Це стрічка 1'\n",
    "а"
   ]
  },
  {
   "cell_type": "code",
   "execution_count": 36,
   "metadata": {},
   "outputs": [
    {
     "data": {
      "text/plain": [
       "'Це також стрічка'"
      ]
     },
     "execution_count": 36,
     "metadata": {},
     "output_type": "execute_result"
    }
   ],
   "source": [
    "a = \"Це також стрічка\"\n",
    "a"
   ]
  },
  {
   "cell_type": "code",
   "execution_count": 37,
   "metadata": {},
   "outputs": [
    {
     "data": {
      "text/plain": [
       "'\\nЦе буде\\nРозбити на стрічки\\nзмінна\\n'"
      ]
     },
     "execution_count": 37,
     "metadata": {},
     "output_type": "execute_result"
    }
   ],
   "source": [
    "text = '''\n",
    "Це буде\n",
    "Розбити на стрічки\n",
    "змінна\n",
    "'''\n",
    "text"
   ]
  },
  {
   "cell_type": "code",
   "execution_count": 38,
   "metadata": {},
   "outputs": [
    {
     "name": "stdout",
     "output_type": "stream",
     "text": [
      "Це буде вивід \n",
      "Це буде\n",
      "Розбити на стрічки\n",
      "змінна\n",
      " Це також стрічка\n",
      "Це початок:  Це також стрічка Це щось поcередині Це буде вивід\n"
     ]
    }
   ],
   "source": [
    "b = \"Це буде вивід\"\n",
    "print(b, text, a)\n",
    "print(\"Це початок: \", a, 'Це щось поcередині', b)"
   ]
  },
  {
   "cell_type": "code",
   "execution_count": 39,
   "metadata": {},
   "outputs": [
    {
     "name": "stdout",
     "output_type": "stream",
     "text": [
      "<class 'str'>\n",
      "Це буде стрічка:  <class 'str'> 1 Це буде число:  <class 'int'> 1\n",
      "<class 'str'> Та її значення:  1\n"
     ]
    }
   ],
   "source": [
    "print(type(b))\n",
    "n = \"1\"\n",
    "nn = 1\n",
    "ss = str(nn)\n",
    "\n",
    "print(\"Це буде стрічка: \", type(n), n, \"Це буде число: \", type(nn), nn)\n",
    "print(type(ss), \"Та її значення: \", ss)"
   ]
  },
  {
   "cell_type": "markdown",
   "metadata": {},
   "source": [
    "###  Чисельні типи даних"
   ]
  },
  {
   "cell_type": "code",
   "execution_count": 40,
   "metadata": {},
   "outputs": [
    {
     "name": "stdout",
     "output_type": "stream",
     "text": [
      "28\n"
     ]
    }
   ],
   "source": [
    "import sys\n",
    "print(sys.getsizeof(nn))"
   ]
  },
  {
   "cell_type": "code",
   "execution_count": 41,
   "metadata": {},
   "outputs": [
    {
     "name": "stdout",
     "output_type": "stream",
     "text": [
      "<class 'int'> 8\n",
      "33\n"
     ]
    }
   ],
   "source": [
    "a = 3\n",
    "b = 5\n",
    "print(type(a), a+b)\n",
    "\n",
    "_ = \"Це стрічка\"\n",
    "c = \"3\"\n",
    "\n",
    "# Це коментар \n",
    "print(str(a) + c) # така операція називається конкатенацією"
   ]
  },
  {
   "cell_type": "code",
   "execution_count": 42,
   "metadata": {},
   "outputs": [
    {
     "name": "stdout",
     "output_type": "stream",
     "text": [
      "Це початок | Це стрічка1\n"
     ]
    }
   ],
   "source": [
    "print(\"Це початок | \" + _ + ss)"
   ]
  },
  {
   "cell_type": "code",
   "execution_count": 46,
   "metadata": {},
   "outputs": [],
   "source": [
    "# тут буде помилка і якщо ми запустимо цей прінт то в нас буде видавати \n",
    "# текст написаний у наступній комірці \n",
    "#print(ss - _)"
   ]
  },
  {
   "cell_type": "markdown",
   "metadata": {},
   "source": [
    "```python\n",
    "---------------------------------------------------------------------------\n",
    "TypeError                                 Traceback (most recent call last)\n",
    "Cell In[45], line 3\n",
    "      1 # тут буде помилка і якщо ми запустимо цей прінт то в нас буде видавати \n",
    "      2 # текст написаний у наступній комірці \n",
    "----> 3 print(ss - _)\n",
    "\n",
    "TypeError: unsupported operand type(s) for -: 'str' and 'str'\n",
    "```"
   ]
  },
  {
   "cell_type": "code",
   "execution_count": 44,
   "metadata": {},
   "outputs": [
    {
     "name": "stdout",
     "output_type": "stream",
     "text": [
      "Це комірка вже буде працювати!\n"
     ]
    }
   ],
   "source": [
    "print(\"Це комірка вже буде працювати!\")"
   ]
  }
 ],
 "metadata": {
  "kernelspec": {
   "display_name": "Python 3",
   "language": "python",
   "name": "python3"
  },
  "language_info": {
   "codemirror_mode": {
    "name": "ipython",
    "version": 3
   },
   "file_extension": ".py",
   "mimetype": "text/x-python",
   "name": "python",
   "nbconvert_exporter": "python",
   "pygments_lexer": "ipython3",
   "version": "3.11.1"
  }
 },
 "nbformat": 4,
 "nbformat_minor": 2
}
