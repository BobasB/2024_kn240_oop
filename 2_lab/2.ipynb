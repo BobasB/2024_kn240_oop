{
 "cells": [
  {
   "cell_type": "markdown",
   "metadata": {},
   "source": [
    "### Стрічкові типи даних"
   ]
  },
  {
   "cell_type": "code",
   "execution_count": 25,
   "metadata": {},
   "outputs": [
    {
     "data": {
      "text/plain": [
       "'Це стрічка 1'"
      ]
     },
     "execution_count": 25,
     "metadata": {},
     "output_type": "execute_result"
    }
   ],
   "source": [
    "а = 'Це стрічка 1'\n",
    "а"
   ]
  },
  {
   "cell_type": "code",
   "execution_count": 26,
   "metadata": {},
   "outputs": [
    {
     "data": {
      "text/plain": [
       "'Це також стрічка'"
      ]
     },
     "execution_count": 26,
     "metadata": {},
     "output_type": "execute_result"
    }
   ],
   "source": [
    "a = \"Це також стрічка\"\n",
    "a"
   ]
  },
  {
   "cell_type": "code",
   "execution_count": 27,
   "metadata": {},
   "outputs": [
    {
     "data": {
      "text/plain": [
       "'\\nЦе буде\\nРозбити на стрічки\\nзмінна\\n'"
      ]
     },
     "execution_count": 27,
     "metadata": {},
     "output_type": "execute_result"
    }
   ],
   "source": [
    "text = '''\n",
    "Це буде\n",
    "Розбити на стрічки\n",
    "змінна\n",
    "'''\n",
    "text"
   ]
  },
  {
   "cell_type": "code",
   "execution_count": 28,
   "metadata": {},
   "outputs": [
    {
     "name": "stdout",
     "output_type": "stream",
     "text": [
      "Це буде вивід \n",
      "Це буде\n",
      "Розбити на стрічки\n",
      "змінна\n",
      " Це також стрічка\n",
      "Це початок:  Це також стрічка Це щось поcередині Це буде вивід\n"
     ]
    }
   ],
   "source": [
    "b = \"Це буде вивід\"\n",
    "print(b, text, a)\n",
    "print(\"Це початок: \", a, 'Це щось поcередині', b)"
   ]
  },
  {
   "cell_type": "code",
   "execution_count": 29,
   "metadata": {},
   "outputs": [
    {
     "name": "stdout",
     "output_type": "stream",
     "text": [
      "<class 'str'>\n",
      "Це буде стрічка:  <class 'str'> 1 Це буде число:  <class 'int'> 1\n",
      "<class 'str'> Та її значення:  1\n"
     ]
    }
   ],
   "source": [
    "print(type(b))\n",
    "n = \"1\"\n",
    "nn = 1\n",
    "ss = str(nn)\n",
    "\n",
    "print(\"Це буде стрічка: \", type(n), n, \"Це буде число: \", type(nn), nn)\n",
    "print(type(ss), \"Та її значення: \", ss)"
   ]
  },
  {
   "cell_type": "markdown",
   "metadata": {},
   "source": [
    "###  Чисельні типи даних"
   ]
  },
  {
   "cell_type": "code",
   "execution_count": 30,
   "metadata": {},
   "outputs": [
    {
     "name": "stdout",
     "output_type": "stream",
     "text": [
      "28\n"
     ]
    }
   ],
   "source": [
    "import sys\n",
    "print(sys.getsizeof(nn))"
   ]
  },
  {
   "cell_type": "code",
   "execution_count": 31,
   "metadata": {},
   "outputs": [
    {
     "name": "stdout",
     "output_type": "stream",
     "text": [
      "<class 'int'> 8\n",
      "33\n"
     ]
    }
   ],
   "source": [
    "a = 3\n",
    "b = 5\n",
    "print(type(a), a+b)\n",
    "\n",
    "_ = \"Це стрічка\"\n",
    "c = \"3\"\n",
    "\n",
    "# Це коментар \n",
    "print(str(a) + c) # така операція називається конкатенацією"
   ]
  },
  {
   "cell_type": "code",
   "execution_count": 32,
   "metadata": {},
   "outputs": [
    {
     "name": "stdout",
     "output_type": "stream",
     "text": [
      "Це початок | Це стрічка1\n"
     ]
    }
   ],
   "source": [
    "print(\"Це початок | \" + _ + ss)"
   ]
  },
  {
   "cell_type": "code",
   "execution_count": 33,
   "metadata": {},
   "outputs": [],
   "source": [
    "# тут буде помилка і якщо ми запустимо цей прінт то в нас буде видавати \n",
    "# текст написаний у наступній комірці \n",
    "#print(ss - _)"
   ]
  },
  {
   "cell_type": "markdown",
   "metadata": {},
   "source": [
    "```python\n",
    "---------------------------------------------------------------------------\n",
    "TypeError                                 Traceback (most recent call last)\n",
    "Cell In[45], line 3\n",
    "      1 # тут буде помилка і якщо ми запустимо цей прінт то в нас буде видавати \n",
    "      2 # текст написаний у наступній комірці \n",
    "----> 3 print(ss - _)\n",
    "\n",
    "TypeError: unsupported operand type(s) for -: 'str' and 'str'\n",
    "```"
   ]
  },
  {
   "cell_type": "code",
   "execution_count": 34,
   "metadata": {},
   "outputs": [
    {
     "name": "stdout",
     "output_type": "stream",
     "text": [
      "Це комірка вже буде працювати!\n"
     ]
    }
   ],
   "source": [
    "print(\"Це комірка вже буде працювати!\")"
   ]
  },
  {
   "cell_type": "code",
   "execution_count": 35,
   "metadata": {},
   "outputs": [
    {
     "name": "stdout",
     "output_type": "stream",
     "text": [
      "<class 'int'> 2\n"
     ]
    },
    {
     "data": {
      "text/plain": [
       "0.11000000000000001"
      ]
     },
     "execution_count": 35,
     "metadata": {},
     "output_type": "execute_result"
    }
   ],
   "source": [
    "i = 1\n",
    "f = 1.1\n",
    "d = int(i + f) # обрізаємо плаваючу крапку\n",
    "print(type(d), d)\n",
    "\n",
    "# Через специфіку Пайтон операції множення ділення дають цікавий результа\n",
    "0.1 * f"
   ]
  },
  {
   "cell_type": "markdown",
   "metadata": {},
   "source": [
    "## Розглядаємо колекції\n",
    "- List - набір даних різного типу, які можуть повторюватись\n",
    "- ми можемо змінювати розмір списку (дадавати, забирати, модифікувати)"
   ]
  },
  {
   "cell_type": "code",
   "execution_count": 36,
   "metadata": {},
   "outputs": [
    {
     "name": "stdout",
     "output_type": "stream",
     "text": [
      "Кількість символів 1:  2\n",
      "Витягуємо:  1\n",
      "['end', '1', '2', [1, 2], 2]\n"
     ]
    }
   ],
   "source": [
    "l = [1, 2, [1, 2], \"1\", \"2\", \"1\"]\n",
    "l.append(\"end\")\n",
    "print(\"Кількість символів 1: \", l.count(\"1\"))\n",
    "l.remove(\"1\")\n",
    "print(\"Витягуємо: \", l.pop(0))\n",
    "l.reverse()\n",
    "print(l)"
   ]
  },
  {
   "cell_type": "markdown",
   "metadata": {},
   "source": [
    "- до елементів списку можна доступатись по індексах"
   ]
  },
  {
   "cell_type": "code",
   "execution_count": 37,
   "metadata": {},
   "outputs": [
    {
     "name": "stdout",
     "output_type": "stream",
     "text": [
      "Список з яким працюємо:  ['end', '1', '2', [1, 2], 2] Його довжина 5\n",
      "end 2 2\n"
     ]
    }
   ],
   "source": [
    "print(\"Список з яким працюємо: \", l, \"Його довжина\", len(l))\n",
    "print(l[0], l[-1], l[-2][-1])"
   ]
  },
  {
   "cell_type": "markdown",
   "metadata": {},
   "source": [
    "- Dict - колекія даних у вигляді КЛЮЧ = ЗНАЧЕННЯ, кожне значення знаходиться на іменній позиції\n",
    "- невпорядкована колекція, немає за чим впорядковувати\n",
    "- ключ має бути унікальним!\n",
    "- можемо модифікувати"
   ]
  },
  {
   "cell_type": "code",
   "execution_count": 38,
   "metadata": {},
   "outputs": [
    {
     "name": "stdout",
     "output_type": "stream",
     "text": [
      "{'A': 'A', 'a': 'a'}\n",
      "{'A': 'A', 'a': 'a', 0: '0_як_значення'}\n",
      "0 0\n",
      "Один Один\n"
     ]
    },
    {
     "data": {
      "text/plain": [
       "{0: 0, 1: 'Один', 2: 2}"
      ]
     },
     "execution_count": 38,
     "metadata": {},
     "output_type": "execute_result"
    }
   ],
   "source": [
    "a = \"A\"\n",
    "d = {a: \"a\", \"a\": \"a\", \"A\": a}\n",
    "print(d)\n",
    "\n",
    "d[0] = \"0_як_значення\"\n",
    "print(d)\n",
    "\n",
    "l = [0, \"Один\", 2]\n",
    "d = {0: 0, 1: \"Один\", 2: 2}\n",
    "\n",
    "print(l[0], d[0])\n",
    "print(l[1], d[1])\n",
    "d"
   ]
  },
  {
   "cell_type": "markdown",
   "metadata": {},
   "source": [
    "- tuple - списод обєктів який неможна змінювати після створення (неможна додавати або забирати елементи)\n",
    "- все решта - схожі на List"
   ]
  },
  {
   "cell_type": "code",
   "execution_count": 39,
   "metadata": {},
   "outputs": [
    {
     "name": "stdout",
     "output_type": "stream",
     "text": [
      "<class 'tuple'> (1, 2, 3, 2, 1, 3) 1\n"
     ]
    }
   ],
   "source": [
    "t = (1, 2, 3, 2, 1, 3)\n",
    "print(type(t), t, t[0])"
   ]
  },
  {
   "cell_type": "markdown",
   "metadata": {},
   "source": [
    "- set - унікальна колекція обєктів, невпорядкована"
   ]
  },
  {
   "cell_type": "code",
   "execution_count": 40,
   "metadata": {},
   "outputs": [
    {
     "name": "stdout",
     "output_type": "stream",
     "text": [
      "{1, 2, 3}\n",
      "False\n",
      "витягуємо елемент:  1 Залишилось емементів:  {2}\n"
     ]
    },
    {
     "data": {
      "text/plain": [
       "{1}"
      ]
     },
     "execution_count": 40,
     "metadata": {},
     "output_type": "execute_result"
    }
   ],
   "source": [
    "print(set(t))\n",
    "a = \"Це стрiчкa\" # тут певні букви є англійські а інші українські\n",
    "b = \"Це стрічка\"\n",
    "print(a.__hash__() == b.__hash__())\n",
    "\n",
    "s = {1,1,2,2}\n",
    "print(\"витягуємо елемент: \", s.pop(), \"Залишилось емементів: \", s)\n",
    "ss = {1}\n",
    "ss"
   ]
  },
  {
   "cell_type": "markdown",
   "metadata": {},
   "source": [
    "### Способи виводу \n",
    "- форматування стрічок"
   ]
  },
  {
   "cell_type": "code",
   "execution_count": 41,
   "metadata": {},
   "outputs": [
    {
     "name": "stdout",
     "output_type": "stream",
     "text": [
      "Тут буде ВСТАВКА. І далі продожується речення.\n",
      "Рублячий удар нанесло 10 шкоди. Рублячий удар перестає діяти.\n",
      "І тут також ВСТАВКА\n"
     ]
    }
   ],
   "source": [
    "i = \"ВСТАВКА\"\n",
    "j = 'речення'\n",
    "s = \"Тут буде {}. І далі продожується {}.\".format(i, j)\n",
    "print(s)\n",
    "skill_name = \"Рублячий удар\"\n",
    "damage = 10 \n",
    "e = \"{0} нанесло {1} шкоди. {0} перестає діяти.\".format(skill_name, damage)\n",
    "print(e)\n",
    "\n",
    "print(\"І тут також {}\".format(i))"
   ]
  },
  {
   "cell_type": "code",
   "execution_count": 42,
   "metadata": {},
   "outputs": [
    {
     "name": "stdout",
     "output_type": "stream",
     "text": [
      "Так також можна робити ВСТАВКА\n",
      "Також можна вставляти цифри: 10.00\n"
     ]
    }
   ],
   "source": [
    "print(\"Так також можна робити %s\" % i)\n",
    "print(\"Також можна вставляти цифри: %.2f\" % 10.0001)"
   ]
  },
  {
   "cell_type": "code",
   "execution_count": 43,
   "metadata": {},
   "outputs": [
    {
     "name": "stdout",
     "output_type": "stream",
     "text": [
      "Це ВСТАВКА за допомогою F-стрічок\n"
     ]
    }
   ],
   "source": [
    "f_string = f\"Це {i} за допомогою F-стрічок\"\n",
    "print(f_string)"
   ]
  },
  {
   "cell_type": "code",
   "execution_count": 44,
   "metadata": {},
   "outputs": [
    {
     "name": "stdout",
     "output_type": "stream",
     "text": [
      "1 Це буде ВСТАВКА на цьому місці\n",
      "2 Це буде ВСТАВКА на цьому місці\n",
      "3 Це буде ВСТАВКА на цьому місці\n",
      "4 Це буде ВСТАВКА на цьому місці\n",
      "5 Це буде ВСТАВКА на цьому місці\n"
     ]
    }
   ],
   "source": [
    "# тут використовую властивості пррінт щоб зробити вивід\n",
    "print(\"1 Це буде\", i, \"на цьому місці\") \n",
    "\n",
    "# використовую конкатенацію щоб відформатувати стрічку перед виводом\n",
    "s_p = \"2 Це буде \" + str(i) + \" на цьому місці\" \n",
    "print(s_p)\n",
    "\n",
    "# Використовуємо метод форматування для стрічок\n",
    "s_f = \"3 Це буде {0} на цьому місці\".format(i)\n",
    "print(s_f)\n",
    "\n",
    "# можна через форматований вивід, з явною вказівкою як форматувати\n",
    "s_f = \"4 Це буде %s на цьому місці\" % i\n",
    "print(s_f)\n",
    "\n",
    "# використання F-стрічок\n",
    "f_f = f\"5 Це буде {i} на цьому місці\"\n",
    "print(f_f)"
   ]
  },
  {
   "cell_type": "markdown",
   "metadata": {},
   "source": [
    "### Константи та вбудовані функції\n",
    "- неможна пеервизначати вбудовані константи, але можна зробити змінні дуже схожі на них"
   ]
  },
  {
   "cell_type": "code",
   "execution_count": 45,
   "metadata": {},
   "outputs": [
    {
     "name": "stdout",
     "output_type": "stream",
     "text": [
      "False\n",
      "тут вже є значення\n"
     ]
    }
   ],
   "source": [
    "false = False\n",
    "print(false)\n",
    "d = {\"key\": None, None: \"тут вже є значення\"}\n",
    "print(d[None])\n",
    "# None + 1 # це дасть помилку - неможна робити арифметичні операції з None"
   ]
  },
  {
   "cell_type": "code",
   "execution_count": 46,
   "metadata": {},
   "outputs": [
    {
     "name": "stdout",
     "output_type": "stream",
     "text": [
      "None\n"
     ]
    }
   ],
   "source": [
    "def function():\n",
    "    \"\"\"Це буде наша функція\n",
    "    \"\"\"\n",
    "    return\n",
    "\n",
    "print(function())"
   ]
  },
  {
   "cell_type": "markdown",
   "metadata": {},
   "source": [
    "- перевизначити вбудовані функції можна, але вони повністю можуть поломати функціонал Пайтон і його роботу"
   ]
  },
  {
   "cell_type": "code",
   "execution_count": 47,
   "metadata": {},
   "outputs": [],
   "source": [
    "# def print():\n",
    "#     return 0\n",
    "\n",
    "# print()"
   ]
  },
  {
   "cell_type": "code",
   "execution_count": null,
   "metadata": {},
   "outputs": [],
   "source": []
  }
 ],
 "metadata": {
  "kernelspec": {
   "display_name": "Python 3",
   "language": "python",
   "name": "python3"
  },
  "language_info": {
   "codemirror_mode": {
    "name": "ipython",
    "version": 3
   },
   "file_extension": ".py",
   "mimetype": "text/x-python",
   "name": "python",
   "nbconvert_exporter": "python",
   "pygments_lexer": "ipython3",
   "version": "3.11.1"
  }
 },
 "nbformat": 4,
 "nbformat_minor": 2
}
