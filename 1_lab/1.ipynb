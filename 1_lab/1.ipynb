{
 "cells": [
  {
   "cell_type": "markdown",
   "metadata": {},
   "source": [
    "## Моя перша програма"
   ]
  },
  {
   "cell_type": "markdown",
   "metadata": {},
   "source": [
    "> імпортуємо бібліотеки"
   ]
  },
  {
   "cell_type": "code",
   "execution_count": 8,
   "metadata": {},
   "outputs": [],
   "source": [
    "from datetime import datetime"
   ]
  },
  {
   "cell_type": "markdown",
   "metadata": {},
   "source": [
    "> робимо змінні"
   ]
  },
  {
   "cell_type": "code",
   "execution_count": 9,
   "metadata": {},
   "outputs": [],
   "source": [
    "name = \"Bohdan\"\n",
    "location = \"Львів\""
   ]
  },
  {
   "cell_type": "markdown",
   "metadata": {},
   "source": [
    "> виводимо стрічку"
   ]
  },
  {
   "cell_type": "code",
   "execution_count": 10,
   "metadata": {},
   "outputs": [
    {
     "name": "stdout",
     "output_type": "stream",
     "text": [
      "Bohdan start programming at 2024-09-20 10:44:05.194831. Львів is the best city!\n"
     ]
    }
   ],
   "source": [
    "print(f\"{name} start programming at {datetime.now()}. {location} is the best city!\")"
   ]
  }
 ],
 "metadata": {
  "kernelspec": {
   "display_name": "Python 3",
   "language": "python",
   "name": "python3"
  },
  "language_info": {
   "codemirror_mode": {
    "name": "ipython",
    "version": 3
   },
   "file_extension": ".py",
   "mimetype": "text/x-python",
   "name": "python",
   "nbconvert_exporter": "python",
   "pygments_lexer": "ipython3",
   "version": "3.11.1"
  }
 },
 "nbformat": 4,
 "nbformat_minor": 2
}
