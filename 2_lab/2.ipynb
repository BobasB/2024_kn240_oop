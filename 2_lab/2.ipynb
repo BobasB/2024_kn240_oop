{
 "cells": [
  {
   "cell_type": "markdown",
   "metadata": {},
   "source": [
    "### Стрічкові типи даних"
   ]
  },
  {
   "cell_type": "code",
   "execution_count": 57,
   "metadata": {},
   "outputs": [
    {
     "data": {
      "text/plain": [
       "'Це стрічка 1'"
      ]
     },
     "execution_count": 57,
     "metadata": {},
     "output_type": "execute_result"
    }
   ],
   "source": [
    "а = 'Це стрічка 1'\n",
    "а"
   ]
  },
  {
   "cell_type": "code",
   "execution_count": 58,
   "metadata": {},
   "outputs": [
    {
     "data": {
      "text/plain": [
       "'Це також стрічка'"
      ]
     },
     "execution_count": 58,
     "metadata": {},
     "output_type": "execute_result"
    }
   ],
   "source": [
    "a = \"Це також стрічка\"\n",
    "a"
   ]
  },
  {
   "cell_type": "code",
   "execution_count": 59,
   "metadata": {},
   "outputs": [
    {
     "data": {
      "text/plain": [
       "'\\nЦе буде\\nРозбити на стрічки\\nзмінна\\n'"
      ]
     },
     "execution_count": 59,
     "metadata": {},
     "output_type": "execute_result"
    }
   ],
   "source": [
    "text = '''\n",
    "Це буде\n",
    "Розбити на стрічки\n",
    "змінна\n",
    "'''\n",
    "text"
   ]
  },
  {
   "cell_type": "code",
   "execution_count": 60,
   "metadata": {},
   "outputs": [
    {
     "name": "stdout",
     "output_type": "stream",
     "text": [
      "Це буде вивід \n",
      "Це буде\n",
      "Розбити на стрічки\n",
      "змінна\n",
      " Це також стрічка\n",
      "Це початок:  Це також стрічка Це щось поcередині Це буде вивід\n"
     ]
    }
   ],
   "source": [
    "b = \"Це буде вивід\"\n",
    "print(b, text, a)\n",
    "print(\"Це початок: \", a, 'Це щось поcередині', b)"
   ]
  },
  {
   "cell_type": "code",
   "execution_count": 61,
   "metadata": {},
   "outputs": [
    {
     "name": "stdout",
     "output_type": "stream",
     "text": [
      "<class 'str'>\n",
      "Це буде стрічка:  <class 'str'> 1 Це буде число:  <class 'int'> 1\n",
      "<class 'str'> Та її значення:  1\n"
     ]
    }
   ],
   "source": [
    "print(type(b))\n",
    "n = \"1\"\n",
    "nn = 1\n",
    "ss = str(nn)\n",
    "\n",
    "print(\"Це буде стрічка: \", type(n), n, \"Це буде число: \", type(nn), nn)\n",
    "print(type(ss), \"Та її значення: \", ss)"
   ]
  },
  {
   "cell_type": "markdown",
   "metadata": {},
   "source": [
    "###  Чисельні типи даних"
   ]
  },
  {
   "cell_type": "code",
   "execution_count": 62,
   "metadata": {},
   "outputs": [
    {
     "name": "stdout",
     "output_type": "stream",
     "text": [
      "28\n"
     ]
    }
   ],
   "source": [
    "import sys\n",
    "print(sys.getsizeof(nn))"
   ]
  },
  {
   "cell_type": "code",
   "execution_count": 63,
   "metadata": {},
   "outputs": [
    {
     "name": "stdout",
     "output_type": "stream",
     "text": [
      "<class 'int'> 8\n",
      "33\n"
     ]
    }
   ],
   "source": [
    "a = 3\n",
    "b = 5\n",
    "print(type(a), a+b)\n",
    "\n",
    "_ = \"Це стрічка\"\n",
    "c = \"3\"\n",
    "\n",
    "# Це коментар \n",
    "print(str(a) + c) # така операція називається конкатенацією"
   ]
  },
  {
   "cell_type": "code",
   "execution_count": 64,
   "metadata": {},
   "outputs": [
    {
     "name": "stdout",
     "output_type": "stream",
     "text": [
      "Це початок | Це стрічка1\n"
     ]
    }
   ],
   "source": [
    "print(\"Це початок | \" + _ + ss)"
   ]
  },
  {
   "cell_type": "code",
   "execution_count": 65,
   "metadata": {},
   "outputs": [],
   "source": [
    "# тут буде помилка і якщо ми запустимо цей прінт то в нас буде видавати \n",
    "# текст написаний у наступній комірці \n",
    "#print(ss - _)"
   ]
  },
  {
   "cell_type": "markdown",
   "metadata": {},
   "source": [
    "```python\n",
    "---------------------------------------------------------------------------\n",
    "TypeError                                 Traceback (most recent call last)\n",
    "Cell In[45], line 3\n",
    "      1 # тут буде помилка і якщо ми запустимо цей прінт то в нас буде видавати \n",
    "      2 # текст написаний у наступній комірці \n",
    "----> 3 print(ss - _)\n",
    "\n",
    "TypeError: unsupported operand type(s) for -: 'str' and 'str'\n",
    "```"
   ]
  },
  {
   "cell_type": "code",
   "execution_count": 66,
   "metadata": {},
   "outputs": [
    {
     "name": "stdout",
     "output_type": "stream",
     "text": [
      "Це комірка вже буде працювати!\n"
     ]
    }
   ],
   "source": [
    "print(\"Це комірка вже буде працювати!\")"
   ]
  },
  {
   "cell_type": "code",
   "execution_count": 67,
   "metadata": {},
   "outputs": [
    {
     "name": "stdout",
     "output_type": "stream",
     "text": [
      "<class 'int'> 2\n"
     ]
    },
    {
     "data": {
      "text/plain": [
       "0.11000000000000001"
      ]
     },
     "execution_count": 67,
     "metadata": {},
     "output_type": "execute_result"
    }
   ],
   "source": [
    "i = 1\n",
    "f = 1.1\n",
    "d = int(i + f) # обрізаємо плаваючу крапку\n",
    "print(type(d), d)\n",
    "\n",
    "# Через специфіку Пайтон операції множення ділення дають цікавий результа\n",
    "0.1 * f"
   ]
  },
  {
   "cell_type": "markdown",
   "metadata": {},
   "source": [
    "## Розглядаємо колекції\n",
    "- List - набір даних різного типу, які можуть повторюватись\n",
    "- ми можемо змінювати розмір списку (дадавати, забирати, модифікувати)"
   ]
  },
  {
   "cell_type": "code",
   "execution_count": 68,
   "metadata": {},
   "outputs": [
    {
     "name": "stdout",
     "output_type": "stream",
     "text": [
      "Кількість символів 1:  2\n",
      "Витягуємо:  1\n",
      "['end', '1', '2', [1, 2], 2]\n"
     ]
    }
   ],
   "source": [
    "l = [1, 2, [1, 2], \"1\", \"2\", \"1\"]\n",
    "l.append(\"end\")\n",
    "print(\"Кількість символів 1: \", l.count(\"1\"))\n",
    "l.remove(\"1\")\n",
    "print(\"Витягуємо: \", l.pop(0))\n",
    "l.reverse()\n",
    "print(l)"
   ]
  },
  {
   "cell_type": "markdown",
   "metadata": {},
   "source": [
    "- до елементів списку можна доступатись по індексах"
   ]
  },
  {
   "cell_type": "code",
   "execution_count": 69,
   "metadata": {},
   "outputs": [
    {
     "name": "stdout",
     "output_type": "stream",
     "text": [
      "Список з яким працюємо:  ['end', '1', '2', [1, 2], 2] Його довжина 5\n",
      "end 2 2\n"
     ]
    }
   ],
   "source": [
    "print(\"Список з яким працюємо: \", l, \"Його довжина\", len(l))\n",
    "print(l[0], l[-1], l[-2][-1])"
   ]
  },
  {
   "cell_type": "markdown",
   "metadata": {},
   "source": [
    "- Dict - колекія даних у вигляді КЛЮЧ = ЗНАЧЕННЯ, кожне значення знаходиться на іменній позиції\n",
    "- невпорядкована колекція, немає за чим впорядковувати\n",
    "- ключ має бути унікальним!\n",
    "- можемо модифікувати"
   ]
  },
  {
   "cell_type": "code",
   "execution_count": 70,
   "metadata": {},
   "outputs": [
    {
     "name": "stdout",
     "output_type": "stream",
     "text": [
      "{'A': 'A', 'a': 'a'}\n",
      "{'A': 'A', 'a': 'a', 0: '0_як_значення'}\n",
      "0 0\n",
      "Один Один\n"
     ]
    },
    {
     "data": {
      "text/plain": [
       "{0: 0, 1: 'Один', 2: 2}"
      ]
     },
     "execution_count": 70,
     "metadata": {},
     "output_type": "execute_result"
    }
   ],
   "source": [
    "a = \"A\"\n",
    "d = {a: \"a\", \"a\": \"a\", \"A\": a}\n",
    "print(d)\n",
    "\n",
    "d[0] = \"0_як_значення\"\n",
    "print(d)\n",
    "\n",
    "l = [0, \"Один\", 2]\n",
    "d = {0: 0, 1: \"Один\", 2: 2}\n",
    "\n",
    "print(l[0], d[0])\n",
    "print(l[1], d[1])\n",
    "d"
   ]
  },
  {
   "cell_type": "markdown",
   "metadata": {},
   "source": [
    "- tuple - списод обєктів який неможна змінювати після створення (неможна додавати або забирати елементи)\n",
    "- все решта - схожі на List"
   ]
  },
  {
   "cell_type": "code",
   "execution_count": 71,
   "metadata": {},
   "outputs": [
    {
     "name": "stdout",
     "output_type": "stream",
     "text": [
      "<class 'tuple'> (1, 2, 3, 2, 1, 3) 1\n"
     ]
    }
   ],
   "source": [
    "t = (1, 2, 3, 2, 1, 3)\n",
    "print(type(t), t, t[0])"
   ]
  },
  {
   "cell_type": "markdown",
   "metadata": {},
   "source": [
    "- set - унікальна колекція обєктів, невпорядкована"
   ]
  },
  {
   "cell_type": "code",
   "execution_count": 72,
   "metadata": {},
   "outputs": [
    {
     "name": "stdout",
     "output_type": "stream",
     "text": [
      "{1, 2, 3}\n",
      "False\n",
      "витягуємо елемент:  1 Залишилось емементів:  {2}\n"
     ]
    },
    {
     "data": {
      "text/plain": [
       "{1}"
      ]
     },
     "execution_count": 72,
     "metadata": {},
     "output_type": "execute_result"
    }
   ],
   "source": [
    "print(set(t))\n",
    "a = \"Це стрiчкa\" # тут певні букви є англійські а інші українські\n",
    "b = \"Це стрічка\"\n",
    "print(a.__hash__() == b.__hash__())\n",
    "\n",
    "s = {1,1,2,2}\n",
    "print(\"витягуємо елемент: \", s.pop(), \"Залишилось емементів: \", s)\n",
    "ss = {1}\n",
    "ss"
   ]
  }
 ],
 "metadata": {
  "kernelspec": {
   "display_name": "Python 3",
   "language": "python",
   "name": "python3"
  },
  "language_info": {
   "codemirror_mode": {
    "name": "ipython",
    "version": 3
   },
   "file_extension": ".py",
   "mimetype": "text/x-python",
   "name": "python",
   "nbconvert_exporter": "python",
   "pygments_lexer": "ipython3",
   "version": "3.11.1"
  }
 },
 "nbformat": 4,
 "nbformat_minor": 2
}
