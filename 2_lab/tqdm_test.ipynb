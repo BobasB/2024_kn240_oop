{
 "cells": [
  {
   "cell_type": "code",
   "execution_count": 1,
   "id": "41b092b3",
   "metadata": {},
   "outputs": [],
   "source": [
    "from tqdm import tqdm\n",
    "from time import sleep"
   ]
  },
  {
   "cell_type": "code",
   "execution_count": 2,
   "id": "ed780de8",
   "metadata": {},
   "outputs": [
    {
     "name": "stderr",
     "output_type": "stream",
     "text": [
      "100%|██████████| 4/4 [00:04<00:00,  1.00s/it]\n"
     ]
    }
   ],
   "source": [
    "l = [1, 2, 3, 4]\n",
    "\n",
    "for i in tqdm(l):\n",
    "    sleep(1)"
   ]
  },
  {
   "cell_type": "code",
   "execution_count": 3,
   "id": "c0a7aa5d",
   "metadata": {},
   "outputs": [
    {
     "name": "stderr",
     "output_type": "stream",
     "text": [
      "100%|██████████| 5/5 [00:05<00:00,  1.00s/it]\n"
     ]
    }
   ],
   "source": [
    "r = range(5)\n",
    "for i in tqdm(r):\n",
    "    sleep(1)"
   ]
  },
  {
   "cell_type": "code",
   "execution_count": 11,
   "id": "204a40d1",
   "metadata": {},
   "outputs": [
    {
     "name": "stdout",
     "output_type": "stream",
     "text": [
      "0: імя потоку=ThreadPoolExecutor-3_0\n",
      "1: імя потоку=ThreadPoolExecutor-3_1\n"
     ]
    },
    {
     "data": {
      "application/vnd.jupyter.widget-view+json": {
       "model_id": "ba9e43fe36f94831bfa5d46b11864299",
       "version_major": 2,
       "version_minor": 0
      },
      "text/plain": [
       "Ітерація в треді: 0it [00:00, ?it/s]"
      ]
     },
     "metadata": {},
     "output_type": "display_data"
    },
    {
     "data": {
      "application/vnd.jupyter.widget-view+json": {
       "model_id": "0a80ffb74d624555be518f406bac37b8",
       "version_major": 2,
       "version_minor": 0
      },
      "text/plain": [
       "Start>>>:   0%|          | 0/10 [00:00<?, ?it/s]"
      ]
     },
     "metadata": {},
     "output_type": "display_data"
    },
    {
     "data": {
      "application/vnd.jupyter.widget-view+json": {
       "model_id": "a43ed39502bf42959e7ec99a10d9941f",
       "version_major": 2,
       "version_minor": 0
      },
      "text/plain": [
       "Ітерація в треді:   0%|          | 0/1 [00:00<?, ?it/s]"
      ]
     },
     "metadata": {},
     "output_type": "display_data"
    },
    {
     "name": "stdout",
     "output_type": "stream",
     "text": [
      "2: імя потоку=ThreadPoolExecutor-3_0\n"
     ]
    },
    {
     "data": {
      "application/vnd.jupyter.widget-view+json": {
       "model_id": "0cee089830c54d43a97ab4c8927f7ba6",
       "version_major": 2,
       "version_minor": 0
      },
      "text/plain": [
       "Ітерація в треді:   0%|          | 0/2 [00:00<?, ?it/s]"
      ]
     },
     "metadata": {},
     "output_type": "display_data"
    },
    {
     "name": "stdout",
     "output_type": "stream",
     "text": [
      "3: імя потоку=ThreadPoolExecutor-3_1\n"
     ]
    },
    {
     "data": {
      "application/vnd.jupyter.widget-view+json": {
       "model_id": "386e6644f12840dc84a4306512f39e69",
       "version_major": 2,
       "version_minor": 0
      },
      "text/plain": [
       "Ітерація в треді:   0%|          | 0/3 [00:00<?, ?it/s]"
      ]
     },
     "metadata": {},
     "output_type": "display_data"
    },
    {
     "name": "stdout",
     "output_type": "stream",
     "text": [
      "4: імя потоку=ThreadPoolExecutor-3_0\n"
     ]
    },
    {
     "data": {
      "application/vnd.jupyter.widget-view+json": {
       "model_id": "48a1906791f74b71a7a8ccf0961f37d3",
       "version_major": 2,
       "version_minor": 0
      },
      "text/plain": [
       "Ітерація в треді:   0%|          | 0/4 [00:00<?, ?it/s]"
      ]
     },
     "metadata": {},
     "output_type": "display_data"
    },
    {
     "name": "stdout",
     "output_type": "stream",
     "text": [
      "5: імя потоку=ThreadPoolExecutor-3_1\n"
     ]
    },
    {
     "data": {
      "application/vnd.jupyter.widget-view+json": {
       "model_id": "97501640926e42dab239a61a0189a294",
       "version_major": 2,
       "version_minor": 0
      },
      "text/plain": [
       "Ітерація в треді:   0%|          | 0/5 [00:00<?, ?it/s]"
      ]
     },
     "metadata": {},
     "output_type": "display_data"
    },
    {
     "name": "stdout",
     "output_type": "stream",
     "text": [
      "6: імя потоку=ThreadPoolExecutor-3_0\n"
     ]
    },
    {
     "data": {
      "application/vnd.jupyter.widget-view+json": {
       "model_id": "7c38eabee2cd403fb71e572a1d751440",
       "version_major": 2,
       "version_minor": 0
      },
      "text/plain": [
       "Ітерація в треді:   0%|          | 0/6 [00:00<?, ?it/s]"
      ]
     },
     "metadata": {},
     "output_type": "display_data"
    },
    {
     "name": "stdout",
     "output_type": "stream",
     "text": [
      "7: імя потоку=ThreadPoolExecutor-3_1\n"
     ]
    },
    {
     "data": {
      "application/vnd.jupyter.widget-view+json": {
       "model_id": "7c26056472904637abbcecd96b73cbf4",
       "version_major": 2,
       "version_minor": 0
      },
      "text/plain": [
       "Ітерація в треді:   0%|          | 0/7 [00:00<?, ?it/s]"
      ]
     },
     "metadata": {},
     "output_type": "display_data"
    },
    {
     "name": "stdout",
     "output_type": "stream",
     "text": [
      "8: імя потоку=ThreadPoolExecutor-3_0\n"
     ]
    },
    {
     "data": {
      "application/vnd.jupyter.widget-view+json": {
       "model_id": "a86202ed808a4517820c18a8d17de675",
       "version_major": 2,
       "version_minor": 0
      },
      "text/plain": [
       "Ітерація в треді:   0%|          | 0/8 [00:00<?, ?it/s]"
      ]
     },
     "metadata": {},
     "output_type": "display_data"
    },
    {
     "name": "stdout",
     "output_type": "stream",
     "text": [
      "9: імя потоку=ThreadPoolExecutor-3_1\n"
     ]
    },
    {
     "data": {
      "application/vnd.jupyter.widget-view+json": {
       "model_id": "d088a0110674475cbd77da0d2b09e5a3",
       "version_major": 2,
       "version_minor": 0
      },
      "text/plain": [
       "Ітерація в треді:   0%|          | 0/9 [00:00<?, ?it/s]"
      ]
     },
     "metadata": {},
     "output_type": "display_data"
    }
   ],
   "source": [
    "from concurrent.futures import ThreadPoolExecutor\n",
    "from threading import current_thread\n",
    "import math\n",
    "from tqdm.notebook import tqdm\n",
    "\n",
    "def check_thread(v):\n",
    "    \"\"\"Функція для багатопоточночті через треди\n",
    "    \"\"\"\n",
    "    thread = current_thread()\n",
    "    print(f\"{v}: імя потоку={thread.name}\")\n",
    "    for _ in tqdm(range(v), desc=\"Ітерація в треді\", leave=False):\n",
    "        sleep(1)\n",
    "    a = math.sqrt(64^v)\n",
    "    return a\n",
    "\n",
    "with ThreadPoolExecutor(max_workers=2) as executor:\n",
    "    list(tqdm(executor.map(check_thread, range(10)), total=10, desc=\"Start>>>\"))"
   ]
  },
  {
   "cell_type": "code",
   "execution_count": 10,
   "id": "4ace64d8",
   "metadata": {},
   "outputs": [
    {
     "data": {
      "application/vnd.jupyter.widget-view+json": {
       "model_id": "799301b092b34fdda6fa0447eb44de8b",
       "version_major": 2,
       "version_minor": 0
      },
      "text/plain": [
       "Загальний прогрес:   0%|          | 0/5 [00:00<?, ?it/s]"
      ]
     },
     "metadata": {},
     "output_type": "display_data"
    },
    {
     "data": {
      "application/vnd.jupyter.widget-view+json": {
       "model_id": "ac452e1913f64fefa77e695f43eb35bb",
       "version_major": 2,
       "version_minor": 0
      },
      "text/plain": [
       "Внутрішня ітерація:   0%|          | 0/10 [00:00<?, ?it/s]"
      ]
     },
     "metadata": {},
     "output_type": "display_data"
    },
    {
     "data": {
      "application/vnd.jupyter.widget-view+json": {
       "model_id": "d9defb249a094c81ad8f8ee2bc5c5a96",
       "version_major": 2,
       "version_minor": 0
      },
      "text/plain": [
       "Внутрішня ітерація:   0%|          | 0/10 [00:00<?, ?it/s]"
      ]
     },
     "metadata": {},
     "output_type": "display_data"
    },
    {
     "data": {
      "application/vnd.jupyter.widget-view+json": {
       "model_id": "e4bf7c749bf64d3e843499ddd45890f6",
       "version_major": 2,
       "version_minor": 0
      },
      "text/plain": [
       "Внутрішня ітерація:   0%|          | 0/10 [00:00<?, ?it/s]"
      ]
     },
     "metadata": {},
     "output_type": "display_data"
    },
    {
     "data": {
      "application/vnd.jupyter.widget-view+json": {
       "model_id": "ac04b836eda94677a2fea78642fb8559",
       "version_major": 2,
       "version_minor": 0
      },
      "text/plain": [
       "Внутрішня ітерація:   0%|          | 0/10 [00:00<?, ?it/s]"
      ]
     },
     "metadata": {},
     "output_type": "display_data"
    },
    {
     "data": {
      "application/vnd.jupyter.widget-view+json": {
       "model_id": "d959911dbc1649d9a53cf39dad1ad899",
       "version_major": 2,
       "version_minor": 0
      },
      "text/plain": [
       "Внутрішня ітерація:   0%|          | 0/10 [00:00<?, ?it/s]"
      ]
     },
     "metadata": {},
     "output_type": "display_data"
    }
   ],
   "source": [
    "for i in tqdm(range(5), desc=\"Загальний прогрес\"):\n",
    "    for j in tqdm(range(10), desc=\"Внутрішня ітерація\", leave=False):\n",
    "        sleep(0.1)"
   ]
  }
 ],
 "metadata": {
  "kernelspec": {
   "display_name": "Python 3",
   "language": "python",
   "name": "python3"
  },
  "language_info": {
   "codemirror_mode": {
    "name": "ipython",
    "version": 3
   },
   "file_extension": ".py",
   "mimetype": "text/x-python",
   "name": "python",
   "nbconvert_exporter": "python",
   "pygments_lexer": "ipython3",
   "version": "3.12.9"
  }
 },
 "nbformat": 4,
 "nbformat_minor": 5
}
